{
 "cells": [
  {
   "cell_type": "code",
   "execution_count": 1,
   "metadata": {},
   "outputs": [],
   "source": [
    "import numpy as np\n",
    "import matplotlib.pyplot as plt\n",
    "from numpy import exp,arange\n",
    "from scipy.optimize import curve_fit\n",
    "from scipy import fftpack\n",
    "from itertools import combinations\n",
    "import scipy.optimize as op\n",
    "from past.builtins import xrange\n",
    "from scipy.optimize import fsolve\n",
    "from scipy.interpolate import UnivariateSpline"
   ]
  },
  {
   "cell_type": "code",
   "execution_count": 5,
   "metadata": {},
   "outputs": [],
   "source": [
    "good_nodes = np.load('good_nodes.npy')\n",
    "bins = np.load('bins.npy')\n",
    "value = np.load('value.npy')"
   ]
  },
  {
   "cell_type": "code",
   "execution_count": 31,
   "metadata": {},
   "outputs": [],
   "source": [
    "hist_time_step=np.diff(bins)[0]"
   ]
  },
  {
   "cell_type": "code",
   "execution_count": 32,
   "metadata": {},
   "outputs": [],
   "source": [
    "x=[1.165261, -0.347107, -1.0, -0.193153]"
   ]
  },
  {
   "cell_type": "code",
   "execution_count": 33,
   "metadata": {},
   "outputs": [],
   "source": [
    "y=[0.205838, 0.893618, 0.333334, -0.849457]"
   ]
  },
  {
   "cell_type": "code",
   "execution_count": 61,
   "metadata": {},
   "outputs": [],
   "source": [
    "def dxx(x,y):\n",
    "    return -r_0+1 + 2*x**2/(x**2+y**2)**2-1/(x**2+y**2)\n",
    "\n",
    "def dyy(x,y):\n",
    "    return r_0+1 + 2*y**2/(x**2+y**2)**2-1/(x**2+y**2)           \n",
    "\n",
    "def dxy(x,y):\n",
    "    return (2*x*y)/(x**2+y**2)**2\n",
    "\n",
    "def mu_critical_xy(x,y): #i have to use the coordinates of the critical points, eq. 3.7 Nakamura \n",
    "    return 1/(dxx(x,y)*dyy(x,y)-dxy(x,y)**2)    \n",
    "    "
   ]
  },
  {
   "cell_type": "code",
   "execution_count": 62,
   "metadata": {},
   "outputs": [],
   "source": [
    "mu=0.1 \n",
    "#shear in a 0-1 range\n",
    "th=0.1\n",
    "phi=0.1\n",
    "x_0=0.1\n",
    "y_0=0.1\n",
    "r_0=0.2\n",
    "\n",
    "x=np.array(x)\n",
    "y=np.array(y)\n",
    "tau_critical=tau_point_mass(x,y,x_0,y_0,r_0)\n",
    "index_min1=2\n",
    "index_min2=0\n",
    "index_saddle1=1\n",
    "index_saddle2=3\n",
    "\n",
    "mu_saddle1=mu_critical_xy(x[index_saddle1],y[index_saddle1])\n",
    "mu_saddle2=mu_critical_xy(x[index_saddle2],y[index_saddle2])\n",
    "mu_min1=mu_critical_xy(x[index_min1],y[index_min1])\n",
    "mu_min2=mu_critical_xy(x[index_min2],y[index_min2])\n",
    "\n",
    "tau_saddle1=tau_critical[index_saddle1]\n",
    "tau_saddle2=tau_critical[index_saddle2]\n",
    "tau_min1=tau_critical[index_min1]\n",
    "tau_min2=tau_critical[index_min2]\n",
    "\n",
    "\n",
    "def contribute_min(mu_min):\n",
    "    return 2*np.pi*np.sqrt(mu_min)\n",
    "\n",
    "def contribute_saddle(mu_saddle, tau_1, tau_saddle, step, j):\n",
    "    return -2 * np.sqrt(-mu_saddle)*np.log((np.abs(tau_1+ step*j - tau_saddle)))"
   ]
  },
  {
   "cell_type": "code",
   "execution_count": 63,
   "metadata": {},
   "outputs": [],
   "source": [
    "#values, bins, _ = plt.hist(part, n_bins, color='gray', weights=dx[:len(part)]*dx[:len(part)]/(np.max(part)-np.min(part))*n_bins)"
   ]
  },
  {
   "cell_type": "code",
   "execution_count": 64,
   "metadata": {},
   "outputs": [
    {
     "data": {
      "text/plain": [
       "0.0010000817273433937"
      ]
     },
     "execution_count": 64,
     "metadata": {},
     "output_type": "execute_result"
    }
   ],
   "source": [
    "hist_time_step"
   ]
  },
  {
   "cell_type": "code",
   "execution_count": 65,
   "metadata": {},
   "outputs": [],
   "source": [
    "b_min1_min2=[]\n",
    "a_min1_min2=[]\n",
    "\n",
    "b_min2_saddle1=[]\n",
    "a_min2_saddle1=[]\n",
    "\n",
    "b_saddle1_saddle2=[]\n",
    "a_saddle1_saddle2=[]\n",
    "\n",
    "b_saddle2=[]\n",
    "a_saddle2=[]\n",
    "\n",
    "tau_wo_critical=[]\n",
    "#min2_min1\n",
    "#for j in range(1,int((tau_min1-np.min(tau))/hist_time_step)):\n",
    "\n",
    "bin_center = bins[:-1] + np.diff(bins) / 2\n",
    "\n",
    "for j,bin_val in enumerate(bin_center,0):\n",
    "   \n",
    "    if bin_val<=tau_min1:\n",
    "        b= contribute_min(mu_min2)+contribute_saddle(mu_saddle2,tau_min2,tau_saddle2,hist_time_step,j)+contribute_saddle(mu_saddle1,tau_min2,tau_saddle1,hist_time_step,j)\n",
    "        a_min1_min2.append(bin_val)\n",
    "        b_min1_min2.append(b)\n",
    "    \n",
    "#min1_saddle1\n",
    "    elif tau_min1<bin_val<=tau_saddle1:\n",
    "#for j in range(1,int((tau_saddle1-tau_min1)/hist_time_step)):\n",
    "        b=contribute_min(mu_min2) +contribute_min(mu_min1)+contribute_saddle(mu_saddle2,tau_min1,tau_saddle2,hist_time_step,j)+contribute_saddle(mu_saddle1,tau_min1,tau_saddle1,hist_time_step,j)\n",
    "        a_min2_saddle1.append(bin_val)\n",
    "        b_min2_saddle1.append(b)\n",
    "    \n",
    "\n",
    "#saddle1_saddle2\n",
    "    elif tau_saddle1 <bin_val<tau_saddle2:\n",
    "#for j in range(1,int((tau_saddle2-tau_saddle1)/hist_time_step)):\n",
    "        b= contribute_min(mu_min2) +contribute_min(mu_min1)+ contribute_saddle(mu_saddle2,tau_saddle1,tau_saddle2,hist_time_step,j)+contribute_saddle(mu_saddle1,tau_saddle1,tau_saddle1,hist_time_step,j)\n",
    "        a_saddle1_saddle2.append(bin_val)\n",
    "        b_saddle1_saddle2.append(b)\n",
    "    \n",
    "#saddle2--\n",
    "    elif bin_val>=tau_saddle2:\n",
    "#for j in range(1,int((np.max(tau)-tau_saddle2)/hist_time_step)):\n",
    "        b=contribute_min(mu_min2)+ contribute_min(mu_min1)+contribute_saddle(mu_saddle1,tau_saddle2,tau_saddle1,hist_time_step,j)+contribute_saddle(mu_saddle2,tau_saddle2,tau_saddle2,hist_time_step,j)\n",
    "        a_saddle2.append(bin_val)\n",
    "        b_saddle2.append(b)\n",
    "    tau_wo_critical.append(j)\n",
    "    \n",
    "    \n",
    "    \n",
    "a=np.concatenate((a_min1_min2,a_min2_saddle1,a_saddle1_saddle2,a_saddle2))\n",
    "b=np.concatenate((b_min1_min2,b_min2_saddle1,b_saddle1_saddle2,b_saddle2))\n",
    "\n"
   ]
  },
  {
   "cell_type": "code",
   "execution_count": 66,
   "metadata": {},
   "outputs": [
    {
     "data": {
      "text/plain": [
       "[<matplotlib.lines.Line2D at 0x152b069550>]"
      ]
     },
     "execution_count": 66,
     "metadata": {},
     "output_type": "execute_result"
    },
    {
     "data": {
      "image/png": "[encoded data removed]",
      "text/plain": [
       "<Figure size 432x288 with 1 Axes>"
      ]
     },
     "metadata": {
      "needs_background": "light"
     },
     "output_type": "display_data"
    }
   ],
   "source": [
    "plt.plot(a,value-b)\n",
    "#plt.xlim(0., 2)"
   ]
  },
  {
   "cell_type": "code",
   "execution_count": 91,
   "metadata": {},
   "outputs": [],
   "source": [
    "value = np.load('crit_matrix.npy')"
   ]
  },
  {
   "cell_type": "code",
   "execution_count": 92,
   "metadata": {},
   "outputs": [
    {
     "data": {
      "text/plain": [
       "array([['1', '0.29', 'm'],\n",
       "       ['3', '0.46', 'm'],\n",
       "       ['2', '0.50', 's'],\n",
       "       ['0', '0.71', 's']], dtype='<U4')"
      ]
     },
     "execution_count": 92,
     "metadata": {},
     "output_type": "execute_result"
    }
   ],
   "source": [
    "value"
   ]
  },
  {
   "cell_type": "code",
   "execution_count": null,
   "metadata": {},
   "outputs": [],
   "source": []
  },
  {
   "cell_type": "code",
   "execution_count": 93,
   "metadata": {},
   "outputs": [],
   "source": [
    "saddle=[]\n",
    "minimum=[]\n",
    "for i in range(2):\n",
    "    minimum.append(int(value[np.where(value[:,2]=='m')[0][i]][0]))\n",
    "    saddle.append(int(value[np.where(value[:,2]=='s')[0][i]][0]))\n",
    "                  "
   ]
  },
  {
   "cell_type": "code",
   "execution_count": 94,
   "metadata": {},
   "outputs": [
    {
     "data": {
      "text/plain": [
       "'1'"
      ]
     },
     "execution_count": 94,
     "metadata": {},
     "output_type": "execute_result"
    }
   ],
   "source": [
    "value[np.where(value[:,2]=='m')[0][0]][0]\n"
   ]
  },
  {
   "cell_type": "code",
   "execution_count": null,
   "metadata": {},
   "outputs": [],
   "source": []
  }
 ],
 "metadata": {
  "kernelspec": {
   "display_name": "Python 3",
   "language": "python",
   "name": "python3"
  },
  "language_info": {
   "codemirror_mode": {
    "name": "ipython",
    "version": 3
   },
   "file_extension": ".py",
   "mimetype": "text/x-python",
   "name": "python",
   "nbconvert_exporter": "python",
   "pygments_lexer": "ipython3",
   "version": "3.7.1"
  }
 },
 "nbformat": 4,
 "nbformat_minor": 2
}
