{
 "cells": [
  {
   "cell_type": "code",
   "execution_count": 1,
   "metadata": {},
   "outputs": [],
   "source": [
    "import numpy as np\n",
    "from astropy import units as u\n",
    "from astropy.constants import GM_sun\n",
    "import matplotlib.pyplot as plt\n",
    "import pandas as pd\n",
    "import warnings\n",
    "import random\n",
    "import pandas as pd\n",
    "warnings.filterwarnings(\"ignore\")"
   ]
  },
  {
   "cell_type": "code",
   "execution_count": 7,
   "metadata": {},
   "outputs": [],
   "source": [
    "def create_plots (x_label, y_label, title):\n",
    "    '''\n",
    "    for idx, item in enumerate(label):\n",
    "        subplot(x[idx],y[idx],label[idx])\n",
    "    '''        \n",
    "    #plt.figure(figsize=(10,10))\n",
    "    plt.title(title)\n",
    "    plt.xlabel(x_label, fontsize=10)\n",
    "    plt.ylabel(y_label, fontsize=10)\n",
    "    plt.legend(loc='lower right',prop={'size': 10})\n",
    "    plt.yticks(size=10)\n",
    "    plt.xticks(size=10)\n",
    "    \n",
    "    \n",
    "def subplot(x,y,label,style='.'):\n",
    "    plt.plot(x,y, style, label=label)\n",
    "    #plt.plot(x,y, style)\n",
    "    plt.legend()\n",
    "    "
   ]
  },
  {
   "cell_type": "code",
   "execution_count": 8,
   "metadata": {},
   "outputs": [],
   "source": [
    "name_file='different_w_values.txt'"
   ]
  },
  {
   "cell_type": "code",
   "execution_count": 9,
   "metadata": {},
   "outputs": [
    {
     "data": {
      "text/html": [
       "<div>\n",
       "<style scoped>\n",
       "    .dataframe tbody tr th:only-of-type {\n",
       "        vertical-align: middle;\n",
       "    }\n",
       "\n",
       "    .dataframe tbody tr th {\n",
       "        vertical-align: top;\n",
       "    }\n",
       "\n",
       "    .dataframe thead th {\n",
       "        text-align: right;\n",
       "    }\n",
       "</style>\n",
       "<table border=\"1\" class=\"dataframe\">\n",
       "  <thead>\n",
       "    <tr style=\"text-align: right;\">\n",
       "      <th></th>\n",
       "      <th>Unnamed: 0</th>\n",
       "      <th>basis</th>\n",
       "      <th>result</th>\n",
       "      <th>time</th>\n",
       "      <th>integration range</th>\n",
       "    </tr>\n",
       "  </thead>\n",
       "  <tbody>\n",
       "    <tr>\n",
       "      <th>0</th>\n",
       "      <td>0</td>\n",
       "      <td>19</td>\n",
       "      <td>(0.49987779233076474-0.00021785607305974716j)</td>\n",
       "      <td>37.573926</td>\n",
       "      <td>1</td>\n",
       "    </tr>\n",
       "    <tr>\n",
       "      <th>1</th>\n",
       "      <td>1</td>\n",
       "      <td>19</td>\n",
       "      <td>(0.49986419373020996-0.002178510948019366j)</td>\n",
       "      <td>36.246177</td>\n",
       "      <td>1</td>\n",
       "    </tr>\n",
       "    <tr>\n",
       "      <th>2</th>\n",
       "      <td>2</td>\n",
       "      <td>19</td>\n",
       "      <td>(0.4985014731603566-0.021736562069126636j)</td>\n",
       "      <td>36.296755</td>\n",
       "      <td>1</td>\n",
       "    </tr>\n",
       "    <tr>\n",
       "      <th>3</th>\n",
       "      <td>3</td>\n",
       "      <td>19</td>\n",
       "      <td>(0.3540609842756052-0.13372268916015975j)</td>\n",
       "      <td>58.184594</td>\n",
       "      <td>1</td>\n",
       "    </tr>\n",
       "    <tr>\n",
       "      <th>4</th>\n",
       "      <td>4</td>\n",
       "      <td>19</td>\n",
       "      <td>(0.001163129724308572-0.004230563967096233j)</td>\n",
       "      <td>138.125285</td>\n",
       "      <td>1</td>\n",
       "    </tr>\n",
       "    <tr>\n",
       "      <th>5</th>\n",
       "      <td>5</td>\n",
       "      <td>19</td>\n",
       "      <td>(7.993223651505482+0.019657832577228716j)</td>\n",
       "      <td>43.858586</td>\n",
       "      <td>4</td>\n",
       "    </tr>\n",
       "    <tr>\n",
       "      <th>6</th>\n",
       "      <td>6</td>\n",
       "      <td>19</td>\n",
       "      <td>(7.987040310460001+0.19644644394470623j)</td>\n",
       "      <td>36.738960</td>\n",
       "      <td>4</td>\n",
       "    </tr>\n",
       "    <tr>\n",
       "      <th>7</th>\n",
       "      <td>7</td>\n",
       "      <td>19</td>\n",
       "      <td>(7.391389273491211+1.8358516897059898j)</td>\n",
       "      <td>36.527103</td>\n",
       "      <td>4</td>\n",
       "    </tr>\n",
       "    <tr>\n",
       "      <th>8</th>\n",
       "      <td>8</td>\n",
       "      <td>19</td>\n",
       "      <td>(2.361289700396882+1.1610498395440585j)</td>\n",
       "      <td>64.203771</td>\n",
       "      <td>4</td>\n",
       "    </tr>\n",
       "    <tr>\n",
       "      <th>9</th>\n",
       "      <td>9</td>\n",
       "      <td>19</td>\n",
       "      <td>(-0.04809010372094247+0.014871767611173172j)</td>\n",
       "      <td>120.792631</td>\n",
       "      <td>4</td>\n",
       "    </tr>\n",
       "    <tr>\n",
       "      <th>10</th>\n",
       "      <td>10</td>\n",
       "      <td>19</td>\n",
       "      <td>(17.98307957938812+0.14194117589304078j)</td>\n",
       "      <td>36.972685</td>\n",
       "      <td>6</td>\n",
       "    </tr>\n",
       "    <tr>\n",
       "      <th>11</th>\n",
       "      <td>11</td>\n",
       "      <td>19</td>\n",
       "      <td>(17.891258512570026+1.4149873753266051j)</td>\n",
       "      <td>38.153131</td>\n",
       "      <td>6</td>\n",
       "    </tr>\n",
       "    <tr>\n",
       "      <th>12</th>\n",
       "      <td>12</td>\n",
       "      <td>19</td>\n",
       "      <td>(10.273733648866132+10.237790874720503j)</td>\n",
       "      <td>36.668750</td>\n",
       "      <td>6</td>\n",
       "    </tr>\n",
       "    <tr>\n",
       "      <th>13</th>\n",
       "      <td>13</td>\n",
       "      <td>19</td>\n",
       "      <td>(2.068310806205331-2.2841794718502473j)</td>\n",
       "      <td>71.436629</td>\n",
       "      <td>6</td>\n",
       "    </tr>\n",
       "    <tr>\n",
       "      <th>14</th>\n",
       "      <td>14</td>\n",
       "      <td>19</td>\n",
       "      <td>(-0.5357863870468179+0.032175669309894434j)</td>\n",
       "      <td>117.599019</td>\n",
       "      <td>6</td>\n",
       "    </tr>\n",
       "    <tr>\n",
       "      <th>15</th>\n",
       "      <td>15</td>\n",
       "      <td>19</td>\n",
       "      <td>(31.96463503379977+0.5156120085356006j)</td>\n",
       "      <td>38.143816</td>\n",
       "      <td>8</td>\n",
       "    </tr>\n",
       "    <tr>\n",
       "      <th>16</th>\n",
       "      <td>16</td>\n",
       "      <td>19</td>\n",
       "      <td>(31.355465332728357+5.102868833549402j)</td>\n",
       "      <td>40.543624</td>\n",
       "      <td>8</td>\n",
       "    </tr>\n",
       "    <tr>\n",
       "      <th>17</th>\n",
       "      <td>17</td>\n",
       "      <td>19</td>\n",
       "      <td>(-1.5739432508822389+14.764949261243151j)</td>\n",
       "      <td>36.802359</td>\n",
       "      <td>8</td>\n",
       "    </tr>\n",
       "    <tr>\n",
       "      <th>18</th>\n",
       "      <td>18</td>\n",
       "      <td>19</td>\n",
       "      <td>(4.424361083253665-0.8048150387530877j)</td>\n",
       "      <td>74.711726</td>\n",
       "      <td>8</td>\n",
       "    </tr>\n",
       "    <tr>\n",
       "      <th>19</th>\n",
       "      <td>19</td>\n",
       "      <td>19</td>\n",
       "      <td>(0.29536206568197226+0.5140157835649639j)</td>\n",
       "      <td>133.640907</td>\n",
       "      <td>8</td>\n",
       "    </tr>\n",
       "  </tbody>\n",
       "</table>\n",
       "</div>"
      ],
      "text/plain": [
       "    Unnamed: 0  basis                                         result  \\\n",
       "0            0     19  (0.49987779233076474-0.00021785607305974716j)   \n",
       "1            1     19    (0.49986419373020996-0.002178510948019366j)   \n",
       "2            2     19     (0.4985014731603566-0.021736562069126636j)   \n",
       "3            3     19      (0.3540609842756052-0.13372268916015975j)   \n",
       "4            4     19   (0.001163129724308572-0.004230563967096233j)   \n",
       "5            5     19      (7.993223651505482+0.019657832577228716j)   \n",
       "6            6     19       (7.987040310460001+0.19644644394470623j)   \n",
       "7            7     19        (7.391389273491211+1.8358516897059898j)   \n",
       "8            8     19        (2.361289700396882+1.1610498395440585j)   \n",
       "9            9     19   (-0.04809010372094247+0.014871767611173172j)   \n",
       "10          10     19       (17.98307957938812+0.14194117589304078j)   \n",
       "11          11     19       (17.891258512570026+1.4149873753266051j)   \n",
       "12          12     19       (10.273733648866132+10.237790874720503j)   \n",
       "13          13     19        (2.068310806205331-2.2841794718502473j)   \n",
       "14          14     19    (-0.5357863870468179+0.032175669309894434j)   \n",
       "15          15     19        (31.96463503379977+0.5156120085356006j)   \n",
       "16          16     19        (31.355465332728357+5.102868833549402j)   \n",
       "17          17     19      (-1.5739432508822389+14.764949261243151j)   \n",
       "18          18     19        (4.424361083253665-0.8048150387530877j)   \n",
       "19          19     19      (0.29536206568197226+0.5140157835649639j)   \n",
       "\n",
       "          time  integration range  \n",
       "0    37.573926                  1  \n",
       "1    36.246177                  1  \n",
       "2    36.296755                  1  \n",
       "3    58.184594                  1  \n",
       "4   138.125285                  1  \n",
       "5    43.858586                  4  \n",
       "6    36.738960                  4  \n",
       "7    36.527103                  4  \n",
       "8    64.203771                  4  \n",
       "9   120.792631                  4  \n",
       "10   36.972685                  6  \n",
       "11   38.153131                  6  \n",
       "12   36.668750                  6  \n",
       "13   71.436629                  6  \n",
       "14  117.599019                  6  \n",
       "15   38.143816                  8  \n",
       "16   40.543624                  8  \n",
       "17   36.802359                  8  \n",
       "18   74.711726                  8  \n",
       "19  133.640907                  8  "
      ]
     },
     "execution_count": 9,
     "metadata": {},
     "output_type": "execute_result"
    }
   ],
   "source": [
    "df=pd.read_csv(name_file, sep=\"\\t\")\n",
    "#df.drop('Unnamed: 0')\n",
    "df"
   ]
  },
  {
   "cell_type": "markdown",
   "metadata": {},
   "source": [
    "# w vs integration time in different ranges"
   ]
  },
  {
   "cell_type": "markdown",
   "metadata": {},
   "source": [
    "fai plot belli, descrivi metodo bisection, descrivi cambi di variabile usati, confronto con mathematica"
   ]
  },
  {
   "cell_type": "code",
   "execution_count": 27,
   "metadata": {},
   "outputs": [
    {
     "name": "stderr",
     "output_type": "stream",
     "text": [
      "No handles with labels found to put in legend.\n"
     ]
    },
    {
     "data": {
      "image/png": "[encoded data removed]",
      "text/plain": [
       "<Figure size 432x288 with 1 Axes>"
      ]
     },
     "metadata": {
      "needs_background": "light"
     },
     "output_type": "display_data"
    }
   ],
   "source": [
    "res_real=[complex(df.result.values[j]).real for j in range(0,len(df.result.values))]\n",
    "res_complex=[complex(df.result.values[j]).imag for j in range(0,len(df.result.values))]\n",
    "w_SIS=[0.001,0.01,0.1,1,10]\n",
    "create_plots('w','time (min)','integration range 0-1')\n",
    "subplot(w_SIS,df.time.values[:5]/60,label='python result')"
   ]
  },
  {
   "cell_type": "code",
   "execution_count": 29,
   "metadata": {},
   "outputs": [
    {
     "name": "stderr",
     "output_type": "stream",
     "text": [
      "No handles with labels found to put in legend.\n"
     ]
    },
    {
     "data": {
      "image/png": "[encoded data removed]",
      "text/plain": [
       "<Figure size 432x288 with 1 Axes>"
      ]
     },
     "metadata": {
      "needs_background": "light"
     },
     "output_type": "display_data"
    }
   ],
   "source": [
    "res_real=[complex(df.result.values[j]).real for j in range(0,len(df.result.values))]\n",
    "res_complex=[complex(df.result.values[j]).imag for j in range(0,len(df.result.values))]\n",
    "w_SIS=[0.001,0.01,0.1,1,10]\n",
    "create_plots('w','time (min)','integration range 0-4')\n",
    "subplot(w_SIS,df.time.values[5:10]/60,label='python result')"
   ]
  },
  {
   "cell_type": "code",
   "execution_count": 30,
   "metadata": {},
   "outputs": [
    {
     "name": "stderr",
     "output_type": "stream",
     "text": [
      "No handles with labels found to put in legend.\n"
     ]
    },
    {
     "data": {
      "image/png": "[encoded data removed]",
      "text/plain": [
       "<Figure size 432x288 with 1 Axes>"
      ]
     },
     "metadata": {
      "needs_background": "light"
     },
     "output_type": "display_data"
    }
   ],
   "source": [
    "res_real=[complex(df.result.values[j]).real for j in range(0,len(df.result.values))]\n",
    "res_complex=[complex(df.result.values[j]).imag for j in range(0,len(df.result.values))]\n",
    "w_SIS=[0.001,0.01,0.1,1,10]\n",
    "create_plots('w','time (min)','integration range 0-6')\n",
    "subplot(w_SIS,df.time.values[10:15]/60,label='python result')"
   ]
  },
  {
   "cell_type": "code",
   "execution_count": 31,
   "metadata": {},
   "outputs": [
    {
     "name": "stderr",
     "output_type": "stream",
     "text": [
      "No handles with labels found to put in legend.\n"
     ]
    },
    {
     "data": {
      "image/png": "[encoded data removed]",
      "text/plain": [
       "<Figure size 432x288 with 1 Axes>"
      ]
     },
     "metadata": {
      "needs_background": "light"
     },
     "output_type": "display_data"
    }
   ],
   "source": [
    "res_real=[complex(df.result.values[j]).real for j in range(0,len(df.result.values))]\n",
    "res_complex=[complex(df.result.values[j]).imag for j in range(0,len(df.result.values))]\n",
    "w_SIS=[0.001,0.01,0.1,1,10]\n",
    "create_plots('w','time (min)','integration range 0-8')\n",
    "subplot(w_SIS,df.time.values[15:20]/60,label='python result')"
   ]
  },
  {
   "cell_type": "markdown",
   "metadata": {},
   "source": [
    "# w vs integration time in different ranges"
   ]
  },
  {
   "cell_type": "code",
   "execution_count": null,
   "metadata": {},
   "outputs": [],
   "source": []
  },
  {
   "cell_type": "code",
   "execution_count": null,
   "metadata": {},
   "outputs": [],
   "source": []
  },
  {
   "cell_type": "code",
   "execution_count": 51,
   "metadata": {},
   "outputs": [
    {
     "data": {
      "image/png": "[encoded data removed]",
      "text/plain": [
       "<Figure size 432x288 with 1 Axes>"
      ]
     },
     "metadata": {
      "needs_background": "light"
     },
     "output_type": "display_data"
    }
   ],
   "source": [
    "subplot(df.basis,res_complex,label='python result')"
   ]
  },
  {
   "cell_type": "code",
   "execution_count": 47,
   "metadata": {},
   "outputs": [],
   "source": [
    "res=[complex(df.result.values[j]).real for j in range(0,len(df.result.values))]"
   ]
  },
  {
   "cell_type": "code",
   "execution_count": 46,
   "metadata": {},
   "outputs": [
    {
     "data": {
      "text/plain": [
       "0.4366323638938458"
      ]
     },
     "execution_count": 46,
     "metadata": {},
     "output_type": "execute_result"
    }
   ],
   "source": [
    "complex(df.result.values[0]).real"
   ]
  },
  {
   "cell_type": "code",
   "execution_count": 18,
   "metadata": {},
   "outputs": [
    {
     "name": "stderr",
     "output_type": "stream",
     "text": [
      "No handles with labels found to put in legend.\n"
     ]
    },
    {
     "data": {
      "image/png": "[encoded data removed]",
      "text/plain": [
       "<Figure size 432x288 with 1 Axes>"
      ]
     },
     "metadata": {
      "needs_background": "light"
     },
     "output_type": "display_data"
    }
   ],
   "source": [
    "#0.499\n",
    "create_plots('basis','result','integration range 0-1')\n",
    "subplot(df[0:18].basis,df[0:18].result, label='python results')\n",
    "plt.axhline(0.499, color='r',label='mathematica results')\n",
    "plt.legend()\n",
    "plt.savefig('integration_range_01.png')"
   ]
  },
  {
   "cell_type": "code",
   "execution_count": 31,
   "metadata": {},
   "outputs": [
    {
     "name": "stderr",
     "output_type": "stream",
     "text": [
      "No handles with labels found to put in legend.\n"
     ]
    },
    {
     "data": {
      "image/png": "[encoded data removed]",
      "text/plain": [
       "<Figure size 432x288 with 1 Axes>"
      ]
     },
     "metadata": {
      "needs_background": "light"
     },
     "output_type": "display_data"
    }
   ],
   "source": [
    "n=[4,5,6]\n",
    "t=[0.895,10.832,104.224]\n",
    "\n",
    "create_plots('basis','time (s)','TIME in integration range 0-1')\n",
    "subplot(df[0:7].basis,df[0:7].time, label='1 oscillating function')\n",
    "subplot(n,t, label='2 oscillating functions')\n",
    "plt.savefig('time_integration_range_01+nuovo.png')\n"
   ]
  },
  {
   "cell_type": "code",
   "execution_count": 23,
   "metadata": {},
   "outputs": [
    {
     "name": "stderr",
     "output_type": "stream",
     "text": [
      "No handles with labels found to put in legend.\n"
     ]
    },
    {
     "data": {
      "image/png": "[encoded data removed]",
      "text/plain": [
       "<Figure size 432x288 with 1 Axes>"
      ]
     },
     "metadata": {
      "needs_background": "light"
     },
     "output_type": "display_data"
    }
   ],
   "source": [
    "create_plots('basis','result','integration range 0-4')\n",
    "plt.axhline(7.84, color='r',label='mathematica results')\n",
    "subplot(df[18:18*2].basis,df[18:18*2].result, label='python results')\n",
    "plt.savefig('integration_range_04.png')"
   ]
  },
  {
   "cell_type": "code",
   "execution_count": 25,
   "metadata": {},
   "outputs": [
    {
     "name": "stderr",
     "output_type": "stream",
     "text": [
      "No handles with labels found to put in legend.\n"
     ]
    },
    {
     "data": {
      "image/png": "[encoded data removed]",
      "text/plain": [
       "<Figure size 432x288 with 1 Axes>"
      ]
     },
     "metadata": {
      "needs_background": "light"
     },
     "output_type": "display_data"
    }
   ],
   "source": [
    "create_plots('basis','time (s)','TIME in integration range 0-4')\n",
    "subplot(df[18:18*2].basis,df[18:18*2].time,label='python integration time')\n",
    "plt.savefig('time_integration_range_04.png')"
   ]
  },
  {
   "cell_type": "code",
   "execution_count": 85,
   "metadata": {},
   "outputs": [
    {
     "name": "stderr",
     "output_type": "stream",
     "text": [
      "No handles with labels found to put in legend.\n"
     ]
    },
    {
     "data": {
      "image/png": "[encoded data removed]",
      "text/plain": [
       "<Figure size 432x288 with 1 Axes>"
      ]
     },
     "metadata": {
      "needs_background": "light"
     },
     "output_type": "display_data"
    }
   ],
   "source": [
    "#17.2\n",
    "create_plots('basis','result','integration range 0-6')\n",
    "plt.axhline(17.2, color='r')\n",
    "subplot(df[18*2:18*3].basis,df[18*2:18*3].result)"
   ]
  },
  {
   "cell_type": "code",
   "execution_count": 84,
   "metadata": {},
   "outputs": [
    {
     "name": "stderr",
     "output_type": "stream",
     "text": [
      "No handles with labels found to put in legend.\n"
     ]
    },
    {
     "data": {
      "image/png": "[encoded data removed]",
      "text/plain": [
       "<Figure size 432x288 with 1 Axes>"
      ]
     },
     "metadata": {
      "needs_background": "light"
     },
     "output_type": "display_data"
    }
   ],
   "source": [
    "#29.5\n",
    "create_plots('basis','result','integration range 0-8')\n",
    "plt.axhline(29.5, color='r')\n",
    "subplot(df[18*3:18*4].basis,df[18*3:18*4].result)"
   ]
  },
  {
   "cell_type": "code",
   "execution_count": null,
   "metadata": {},
   "outputs": [],
   "source": []
  },
  {
   "cell_type": "code",
   "execution_count": null,
   "metadata": {},
   "outputs": [],
   "source": []
  },
  {
   "cell_type": "code",
   "execution_count": null,
   "metadata": {},
   "outputs": [],
   "source": []
  },
  {
   "cell_type": "code",
   "execution_count": null,
   "metadata": {},
   "outputs": [],
   "source": []
  }
 ],
 "metadata": {
  "kernelspec": {
   "display_name": "Python 3",
   "language": "python",
   "name": "python3"
  },
  "language_info": {
   "codemirror_mode": {
    "name": "ipython",
    "version": 3
   },
   "file_extension": ".py",
   "mimetype": "text/x-python",
   "name": "python",
   "nbconvert_exporter": "python",
   "pygments_lexer": "ipython3",
   "version": "3.7.1"
  }
 },
 "nbformat": 4,
 "nbformat_minor": 2
}
