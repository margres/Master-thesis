{
 "cells": [
  {
   "cell_type": "code",
   "execution_count": 7,
   "metadata": {},
   "outputs": [],
   "source": [
    "import numpy as np\n",
    "import matplotlib.pyplot as plt"
   ]
  },
  {
   "cell_type": "code",
   "execution_count": 10,
   "metadata": {},
   "outputs": [],
   "source": [
    "def delta(beta):\n",
    "    '''\n",
    "    Given a coordinate - either x or y - of the lensed obj it returns the oordinates of the unlensed source\n",
    "    '''\n",
    "    E=1\n",
    "    theta= 0.5*beta \n",
    "    theta_m=theta_p\n",
    "    delta=np.sqrt(beta**2+4*E**2)\n",
    "    theta_p+=0.5*(delta)\n",
    "    theta_m-=0.5*(delta)\n",
    "    return theta"
   ]
  },
  {
   "cell_type": "code",
   "execution_count": 15,
   "metadata": {},
   "outputs": [],
   "source": [
    "def plot_circle(r,x_0,y_0):\n",
    "    theta = np.linspace(0, 2*np.pi, 100)\n",
    "    x1 = r*np.cos(theta) + x_0\n",
    "    x2 = r*np.sin(theta) + y_0\n",
    "    return x1,x2"
   ]
  },
  {
   "cell_type": "code",
   "execution_count": 16,
   "metadata": {},
   "outputs": [],
   "source": [
    "def delta(beta,E=1):\n",
    "    return np.sqrt(beta**2+4*E**2)"
   ]
  },
  {
   "cell_type": "code",
   "execution_count": 18,
   "metadata": {},
   "outputs": [
    {
     "data": {
      "image/png": "[encoded data removed]",
      "text/plain": [
       "<Figure size 432x288 with 1 Axes>"
      ]
     },
     "metadata": {
      "needs_background": "light"
     },
     "output_type": "display_data"
    }
   ],
   "source": [
    "\n",
    "# the radius of the circle\n",
    "r = 0.2\n",
    "x_0=0.7\n",
    "y_0=0.7\n",
    "\n",
    "x_gal,y_gal=plot_circle(0.2,0.7,0.7)\n",
    "x_lens,y_lens=plot_circle(1,0,0)\n",
    "\n",
    "\n",
    "plt.plot(x_gal,y_gal)\n",
    "plt.plot(x_lens,y_lens)\n",
    "\n",
    "plt.gca().set_aspect('equal', adjustable='box')\n",
    "\n",
    "plt.plot(0.5*(x_gal+delta(x_gal)),0.5*(y_gal+delta(y_gal)))\n",
    "plt.plot(0.5*(x_gal-delta(x_gal)),0.5*(y_gal-delta(y_gal)))\n",
    "\n",
    "plt.show()"
   ]
  },
  {
   "cell_type": "code",
   "execution_count": null,
   "metadata": {},
   "outputs": [],
   "source": []
  }
 ],
 "metadata": {
  "kernelspec": {
   "display_name": "Python 3",
   "language": "python",
   "name": "python3"
  },
  "language_info": {
   "codemirror_mode": {
    "name": "ipython",
    "version": 3
   },
   "file_extension": ".py",
   "mimetype": "text/x-python",
   "name": "python",
   "nbconvert_exporter": "python",
   "pygments_lexer": "ipython3",
   "version": "3.7.1"
  }
 },
 "nbformat": 4,
 "nbformat_minor": 2
}
